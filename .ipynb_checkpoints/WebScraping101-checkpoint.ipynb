{
 "cells": [
  {
   "cell_type": "markdown",
   "metadata": {},
   "source": [
    "[![Open In Colab](https://colab.research.google.com/assets/colab-badge.svg)](https://colab.research.google.com/github/dittaya/IntroTextAnalytics/blob/master/WebScraping101.ipynb)"
   ]
  },
  {
   "cell_type": "markdown",
   "metadata": {
    "colab_type": "text",
    "id": "i5hjCqUu69w7"
   },
   "source": [
    "# การวิเคราะห์ข้อความจากเว็บไซต์"
   ]
  },
  {
   "cell_type": "markdown",
   "metadata": {
    "colab_type": "text",
    "id": "mDUgtHEV7E6A"
   },
   "source": [
    "## Dependencies\n",
    "Install libraries\n",
    "- `pythainlp` สำหรับจัดการภาษาไทย\n",
    "- `emoji` สำหรับจัดการ emoji ในข้อความ ใช้ใน `pythainlp`\n",
    "- `beautifulsoup4` ใช้ parse HTML"
   ]
  },
  {
   "cell_type": "code",
   "execution_count": 0,
   "metadata": {
    "colab": {},
    "colab_type": "code",
    "id": "2Tnujg2-c-Z0"
   },
   "outputs": [],
   "source": [
    "!pip install https://github.com/PyThaiNLP/pythainlp/archive/dev.zip\n",
    "!pip install emoji\n",
    "\n",
    "!pip install beautifulsoup4"
   ]
  },
  {
   "cell_type": "markdown",
   "metadata": {
    "colab_type": "text",
    "id": "nQlhMzHm7jDy"
   },
   "source": [
    "## Download webpage\n",
    "Libraries\n",
    "- `requests` สำหรับส่ง http request\n",
    "\n",
    "**References**:\n",
    "- https://requests.readthedocs.io/en/master/"
   ]
  },
  {
   "cell_type": "code",
   "execution_count": 0,
   "metadata": {
    "colab": {},
    "colab_type": "code",
    "id": "PnMY3-p_Zft3"
   },
   "outputs": [],
   "source": [
    "from bs4 import BeautifulSoup\n",
    "import requests"
   ]
  },
  {
   "cell_type": "code",
   "execution_count": 0,
   "metadata": {
    "colab": {},
    "colab_type": "code",
    "id": "1-XowJBnal58"
   },
   "outputs": [],
   "source": [
    "URL = ''"
   ]
  },
  {
   "cell_type": "code",
   "execution_count": 0,
   "metadata": {
    "colab": {},
    "colab_type": "code",
    "id": "-GJAEvv-bg4f"
   },
   "outputs": [],
   "source": [
    "page = requests.get(URL)\n",
    "page.content"
   ]
  },
  {
   "cell_type": "markdown",
   "metadata": {
    "colab_type": "text",
    "id": "ZDTjS39L8QTq"
   },
   "source": [
    "## Parse HTML\n",
    "Libraries\n",
    "- `bs4` ใช้ parse HTML\n",
    "\n",
    "**References**:\n",
    "- https://www.crummy.com/software/BeautifulSoup/bs4/doc/#quick-start"
   ]
  },
  {
   "cell_type": "code",
   "execution_count": 0,
   "metadata": {
    "colab": {},
    "colab_type": "code",
    "id": "0Tqo1cJtbmxz"
   },
   "outputs": [],
   "source": [
    "soup = BeautifulSoup(page.content, 'html.parser')"
   ]
  },
  {
   "cell_type": "markdown",
   "metadata": {
    "colab_type": "text",
    "id": "mJAXSXPfcCcY"
   },
   "source": [
    "### เลือก HTML tag ที่ต้องการ\n",
    "\n",
    "- Inspect element ใน browser"
   ]
  },
  {
   "cell_type": "code",
   "execution_count": 0,
   "metadata": {
    "colab": {},
    "colab_type": "code",
    "id": "25QXj8Hnk6yB"
   },
   "outputs": [],
   "source": []
  },
  {
   "cell_type": "markdown",
   "metadata": {
    "colab_type": "text",
    "id": "WLokGzSo8xqi"
   },
   "source": [
    "## ตัดคำ\n",
    "Libraries\n",
    "- `pythainlp` ใช้เซตอักขระภาษาไทย\n",
    "- `pythainlp.ulmfit` ใช้ฟังก์ชัน `process_thai` ในการตัดคำ\n",
    "- `re` ใช้ตัดคำที่ไม่มีอักขระไทยเลยออก\n",
    "\n",
    "**References**:\n",
    "- https://www.thainlp.org/pythainlp/tutorials/notebooks/pythainlp_get_started.html#Thai-Characters\n",
    "- https://www.thainlp.org/pythainlp/docs/dev/api/ulmfit.html\n",
    "- https://docs.python.org/3/library/re.html\n"
   ]
  },
  {
   "cell_type": "code",
   "execution_count": 0,
   "metadata": {
    "colab": {},
    "colab_type": "code",
    "id": "iSkq4DuYknqw"
   },
   "outputs": [],
   "source": [
    "import pythainlp\n",
    "from pythainlp.ulmfit import process_thai\n",
    "import re"
   ]
  },
  {
   "cell_type": "code",
   "execution_count": 0,
   "metadata": {
    "colab": {},
    "colab_type": "code",
    "id": "7eHQdQlkk9Ia"
   },
   "outputs": [],
   "source": []
  },
  {
   "cell_type": "markdown",
   "metadata": {
    "colab_type": "text",
    "id": "Fd082KN8ltvr"
   },
   "source": [
    "## นับความถี่\n",
    "Libraries\n",
    "- `pythainlp.util` ใช้ฟังก์ชัน `rank` สามารถตัด stopword ได้\n",
    "\n",
    "หรือจะใช้\n",
    "- `collections` และคลาส `Counter` ก็ได้ แต่ต้องตัด stopword เอง\n",
    "\n",
    "**References**:\n",
    "- https://www.thainlp.org/pythainlp/docs/dev/api/util.html\n",
    "- https://docs.python.org/3/library/collections.html#collections.Counter"
   ]
  },
  {
   "cell_type": "code",
   "execution_count": 0,
   "metadata": {
    "colab": {},
    "colab_type": "code",
    "id": "6eOP66OrlzfQ"
   },
   "outputs": [],
   "source": [
    "from pythainlp.util import rank"
   ]
  },
  {
   "cell_type": "code",
   "execution_count": 0,
   "metadata": {
    "colab": {},
    "colab_type": "code",
    "id": "aJsf1M-Al0rf"
   },
   "outputs": [],
   "source": []
  },
  {
   "cell_type": "markdown",
   "metadata": {
    "colab_type": "text",
    "id": "OvE64kKCl4sE"
   },
   "source": [
    "## Word cloud\n",
    "Libraries\n",
    "- `wordcloud` สำหรับสร้าง word cloud\n",
    "- `matplotlib.pyplot` สำหรับวาดกราฟ (เอา word cloud ไปใส่)\n",
    "\n",
    "**References**:\n",
    "- https://amueller.github.io/word_cloud/generated/wordcloud.WordCloud.html\n",
    "- https://matplotlib.org/api/_as_gen/matplotlib.pyplot.html#module-matplotlib.pyplot"
   ]
  },
  {
   "cell_type": "code",
   "execution_count": 0,
   "metadata": {
    "colab": {},
    "colab_type": "code",
    "id": "YqzyHyqwmAAC"
   },
   "outputs": [],
   "source": [
    "from wordcloud import WordCloud\n",
    "import matplotlib.pyplot as plt"
   ]
  },
  {
   "cell_type": "markdown",
   "metadata": {
    "colab_type": "text",
    "id": "1TtvFVZS_hm6"
   },
   "source": [
    "### Download font ภาษาไทย"
   ]
  },
  {
   "cell_type": "code",
   "execution_count": 0,
   "metadata": {
    "colab": {
     "base_uri": "https://localhost:8080/",
     "height": 289
    },
    "colab_type": "code",
    "id": "3_FKbGs7l-oX",
    "outputId": "fa94315e-2d2f-46bd-b14e-a6e22d53e09e"
   },
   "outputs": [
    {
     "name": "stdout",
     "output_type": "stream",
     "text": [
      "--2020-04-27 12:23:55--  https://github.com/Phonbopit/sarabun-webfont/raw/master/fonts/thsarabunnew-webfont.ttf\n",
      "Resolving github.com (github.com)... 140.82.118.4\n",
      "Connecting to github.com (github.com)|140.82.118.4|:443... connected.\n",
      "HTTP request sent, awaiting response... 302 Found\n",
      "Location: https://raw.githubusercontent.com/Phonbopit/sarabun-webfont/master/fonts/thsarabunnew-webfont.ttf [following]\n",
      "--2020-04-27 12:23:55--  https://raw.githubusercontent.com/Phonbopit/sarabun-webfont/master/fonts/thsarabunnew-webfont.ttf\n",
      "Resolving raw.githubusercontent.com (raw.githubusercontent.com)... 151.101.0.133, 151.101.64.133, 151.101.128.133, ...\n",
      "Connecting to raw.githubusercontent.com (raw.githubusercontent.com)|151.101.0.133|:443... connected.\n",
      "HTTP request sent, awaiting response... 200 OK\n",
      "Length: 98308 (96K) [application/octet-stream]\n",
      "Saving to: ‘thsarabunnew-webfont.ttf’\n",
      "\n",
      "\r",
      "thsarabunnew-webfon   0%[                    ]       0  --.-KB/s               \r",
      "thsarabunnew-webfon 100%[===================>]  96.00K  --.-KB/s    in 0.009s  \n",
      "\n",
      "2020-04-27 12:23:55 (10.5 MB/s) - ‘thsarabunnew-webfont.ttf’ saved [98308/98308]\n",
      "\n"
     ]
    }
   ],
   "source": [
    "!wget https://github.com/Phonbopit/sarabun-webfont/raw/master/fonts/thsarabunnew-webfont.ttf"
   ]
  },
  {
   "cell_type": "markdown",
   "metadata": {
    "colab_type": "text",
    "id": "TshtRBtE_rjk"
   },
   "source": [
    "### Plot\n",
    "\n",
    "ต้องกำหนด font ให้รองรับภาษาไทยด้วย\n",
    "\n",
    "หากให้ `freq` เก็บ dict หรือ Counter ของคำและความถี่ จะ plot ได้ดังนี้"
   ]
  },
  {
   "cell_type": "code",
   "execution_count": 0,
   "metadata": {
    "colab": {},
    "colab_type": "code",
    "id": "EN7_SaqPmBXv"
   },
   "outputs": [],
   "source": [
    "wordcloud = WordCloud(font_path='thsarabunnew-webfont.ttf',\n",
    "                      width=800,\n",
    "                      height=800,\n",
    "                      min_font_size=10,\n",
    "                      background_color='white').generate_from_frequencies(freq)\n",
    "plt.figure(figsize = (15,15))\n",
    "plt.axis('off')\n",
    "plt.imshow(wordcloud)\n",
    "plt.show()"
   ]
  },
  {
   "cell_type": "markdown",
   "metadata": {
    "colab_type": "text",
    "id": "ptO8fOqVmCjR"
   },
   "source": [
    "## Simple sentiment analysis\n",
    "- พจนานุกรมคำบวกและลบจาก `pythainlp`"
   ]
  },
  {
   "cell_type": "markdown",
   "metadata": {
    "colab_type": "text",
    "id": "31vD-SIfBQXx"
   },
   "source": [
    "### Download พจนานุกรม"
   ]
  },
  {
   "cell_type": "code",
   "execution_count": 0,
   "metadata": {
    "colab": {
     "base_uri": "https://localhost:8080/",
     "height": 391
    },
    "colab_type": "code",
    "id": "QaKzyNNnmFP-",
    "outputId": "94008898-f904-4df9-86d8-047d10928a5b"
   },
   "outputs": [
    {
     "name": "stdout",
     "output_type": "stream",
     "text": [
      "--2020-04-27 12:26:42--  https://raw.githubusercontent.com/PyThaiNLP/lexicon-thai/master/sentiment/positive_new.txt\n",
      "Resolving raw.githubusercontent.com (raw.githubusercontent.com)... 151.101.0.133, 151.101.64.133, 151.101.128.133, ...\n",
      "Connecting to raw.githubusercontent.com (raw.githubusercontent.com)|151.101.0.133|:443... connected.\n",
      "HTTP request sent, awaiting response... 200 OK\n",
      "Length: 7319 (7.1K) [text/plain]\n",
      "Saving to: ‘positive_new.txt’\n",
      "\n",
      "\r",
      "positive_new.txt      0%[                    ]       0  --.-KB/s               \r",
      "positive_new.txt    100%[===================>]   7.15K  --.-KB/s    in 0s      \n",
      "\n",
      "2020-04-27 12:26:42 (81.9 MB/s) - ‘positive_new.txt’ saved [7319/7319]\n",
      "\n",
      "--2020-04-27 12:26:43--  https://raw.githubusercontent.com/PyThaiNLP/lexicon-thai/master/sentiment/negative_new.txt\n",
      "Resolving raw.githubusercontent.com (raw.githubusercontent.com)... 151.101.0.133, 151.101.64.133, 151.101.128.133, ...\n",
      "Connecting to raw.githubusercontent.com (raw.githubusercontent.com)|151.101.0.133|:443... connected.\n",
      "HTTP request sent, awaiting response... 200 OK\n",
      "Length: 15150 (15K) [text/plain]\n",
      "Saving to: ‘negative_new.txt’\n",
      "\n",
      "negative_new.txt    100%[===================>]  14.79K  --.-KB/s    in 0.003s  \n",
      "\n",
      "2020-04-27 12:26:44 (4.23 MB/s) - ‘negative_new.txt’ saved [15150/15150]\n",
      "\n"
     ]
    }
   ],
   "source": [
    "!wget https://raw.githubusercontent.com/PyThaiNLP/lexicon-thai/master/sentiment/positive_new.txt\n",
    "!wget https://raw.githubusercontent.com/PyThaiNLP/lexicon-thai/master/sentiment/negative_new.txt"
   ]
  },
  {
   "cell_type": "code",
   "execution_count": 0,
   "metadata": {
    "colab": {},
    "colab_type": "code",
    "id": "n-u-Uq4lmowW"
   },
   "outputs": [],
   "source": [
    "with open('positive_new.txt') as f:\n",
    "  pos = set(word.strip() for word in f)\n",
    "with open('negative_new.txt') as f:\n",
    "  neg = set(word.strip() for word in f)"
   ]
  },
  {
   "cell_type": "markdown",
   "metadata": {
    "colab_type": "text",
    "id": "aFYu0T4oBUX_"
   },
   "source": [
    "### นับคำบวก/ลบ"
   ]
  },
  {
   "cell_type": "code",
   "execution_count": 0,
   "metadata": {
    "colab": {},
    "colab_type": "code",
    "id": "wDFiJzmFmqEc"
   },
   "outputs": [],
   "source": []
  },
  {
   "cell_type": "markdown",
   "metadata": {
    "colab_type": "text",
    "id": "jMmZtCeGBi6Q"
   },
   "source": [
    "### Plot กราฟ\n",
    "Libraries\n",
    "- `matplotlib` ต้องตั้งค่า default font ของกราฟเพื่อแสดงภาษาไทยในแกน\n",
    "\n",
    "Plot\n",
    "- 10 คำบวกที่มีความถี่สูงที่สุด\n",
    "- 10 คำลบที่มีความถี่สูงที่สุด\n",
    "\n",
    "**Reference**:\n",
    "- https://matplotlib.org/api/font_manager_api.html#matplotlib.font_manager.FontManager\n",
    "- https://matplotlib.org/api/_as_gen/matplotlib.pyplot.barh.html#matplotlib.pyplot.barh"
   ]
  },
  {
   "cell_type": "code",
   "execution_count": 0,
   "metadata": {
    "colab": {},
    "colab_type": "code",
    "id": "q390RDoEBqnT"
   },
   "outputs": [],
   "source": [
    "import matplotlib as mpl\n",
    "mpl.font_manager.fontManager.addfont('thsarabunnew-webfont.ttf') # 3.2+\n",
    "mpl.rc('font', family='TH Sarabun New')"
   ]
  },
  {
   "cell_type": "code",
   "execution_count": 0,
   "metadata": {
    "colab": {},
    "colab_type": "code",
    "id": "PwkCtNXFByf_"
   },
   "outputs": [],
   "source": []
  }
 ],
 "metadata": {
  "colab": {
   "collapsed_sections": [],
   "name": "WebScraping101",
   "provenance": [],
   "toc_visible": true
  },
  "kernelspec": {
   "display_name": "Python 3",
   "language": "python",
   "name": "python3"
  },
  "language_info": {
   "codemirror_mode": {
    "name": "ipython",
    "version": 3
   },
   "file_extension": ".py",
   "mimetype": "text/x-python",
   "name": "python",
   "nbconvert_exporter": "python",
   "pygments_lexer": "ipython3",
   "version": "3.7.7"
  }
 },
 "nbformat": 4,
 "nbformat_minor": 1
}
