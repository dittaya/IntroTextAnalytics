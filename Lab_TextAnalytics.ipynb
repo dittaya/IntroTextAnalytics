{
  "nbformat": 4,
  "nbformat_minor": 0,
  "metadata": {
    "colab": {
      "name": "Lab-TextAnalytics",
      "provenance": [],
      "collapsed_sections": []
    },
    "kernelspec": {
      "name": "python3",
      "display_name": "Python 3"
    }
  },
  "cells": [
    {
      "cell_type": "markdown",
      "metadata": {
        "id": "pkgMyY21Dsus",
        "colab_type": "text"
      },
      "source": [
        "# การวิเคราะห์ข้อความจาก YouTube/Twitter"
      ]
    },
    {
      "cell_type": "markdown",
      "metadata": {
        "id": "pBphsIPgDzfp",
        "colab_type": "text"
      },
      "source": [
        "## Dependencies\n",
        "Install libraries\n",
        "- `pythainlp` สำหรับจัดการภาษาไทย\n",
        "- `emoji` สำหรับจัดการ emoji ในข้อความ ใช้ใน `pythainlp`"
      ]
    },
    {
      "cell_type": "code",
      "metadata": {
        "id": "Uj5sl4ohQTcV",
        "colab_type": "code",
        "colab": {}
      },
      "source": [
        "!pip install https://github.com/PyThaiNLP/pythainlp/archive/dev.zip\n",
        "!pip install emoji"
      ],
      "execution_count": 0,
      "outputs": []
    },
    {
      "cell_type": "markdown",
      "metadata": {
        "id": "NSv7Ln_GEWDo",
        "colab_type": "text"
      },
      "source": [
        "## Download ข้อมูล และ upload ขึ้น Colab\n",
        "Libraries\n",
        "- `google.colab` ใช้ module `file`\n",
        "\n",
        "หรือ\n",
        "- กด files -> เลือก Upload\n",
        "\n",
        "**Link**:\n",
        "- [2getherTheSeriesYouTube.csv](https://bit.ly/KMITL2020-YouTubeComments) (~25MB)\n",
        "- [2getherTheSeriesTwitter.csv](https://bit.ly/KMITL2020-Twitter) (~1.8MB)\n"
      ]
    },
    {
      "cell_type": "code",
      "metadata": {
        "id": "g0wntMeQQh36",
        "colab_type": "code",
        "colab": {}
      },
      "source": [
        "from google.colab import files\n",
        "files.upload()"
      ],
      "execution_count": 0,
      "outputs": []
    },
    {
      "cell_type": "markdown",
      "metadata": {
        "id": "6FBMk-MAEY2x",
        "colab_type": "text"
      },
      "source": [
        "## อ่านข้อมูล\n",
        "Libraries\n",
        "- `pandas` เพื่อความสะดวกในการจัดการไฟล์\n",
        "\n",
        "หรือ\n",
        "- `csv` เพื่ออ่านไฟล์ CSV\n",
        "\n",
        "หรือ\n",
        "- เปิดไฟล์ธรรมดาแล้วตัดสตริง\n",
        "\n",
        "**References**:\n",
        "- https://pandas.pydata.org/pandas-docs/stable/reference/api/pandas.read_csv.html"
      ]
    },
    {
      "cell_type": "code",
      "metadata": {
        "id": "3mlHht2JREMx",
        "colab_type": "code",
        "colab": {}
      },
      "source": [
        "import pandas as pd"
      ],
      "execution_count": 0,
      "outputs": []
    },
    {
      "cell_type": "code",
      "metadata": {
        "id": "-GkgR-cpRlxQ",
        "colab_type": "code",
        "colab": {}
      },
      "source": [
        "filename = '2getherTheSeriesYouTube.csv'\n",
        "filename = '2getherTheSeriesTwitter.csv'"
      ],
      "execution_count": 0,
      "outputs": []
    },
    {
      "cell_type": "code",
      "metadata": {
        "id": "3mIuJDPWQ2w9",
        "colab_type": "code",
        "colab": {}
      },
      "source": [
        "df = pd.read_csv('2getherTheSeriesYouTube.csv', escapechar='\\\\', quotechar='\"', quoting=1)\n",
        "df"
      ],
      "execution_count": 0,
      "outputs": []
    },
    {
      "cell_type": "markdown",
      "metadata": {
        "id": "UXWByt83PtFG",
        "colab_type": "text"
      },
      "source": [
        "## ตัดคำ"
      ]
    },
    {
      "cell_type": "code",
      "metadata": {
        "id": "Qn9wn_nNXvc0",
        "colab_type": "code",
        "colab": {}
      },
      "source": [
        "import pythainlp\n",
        "from pythainlp.ulmfit import process_thai\n",
        "import re"
      ],
      "execution_count": 0,
      "outputs": []
    },
    {
      "cell_type": "code",
      "metadata": {
        "id": "cSpEW-sVQV3p",
        "colab_type": "code",
        "colab": {}
      },
      "source": [
        ""
      ],
      "execution_count": 0,
      "outputs": []
    },
    {
      "cell_type": "markdown",
      "metadata": {
        "id": "r0t3ZqRiQJ5L",
        "colab_type": "text"
      },
      "source": [
        "## นับความถี่"
      ]
    },
    {
      "cell_type": "code",
      "metadata": {
        "id": "3AJ1QxFpWfV7",
        "colab_type": "code",
        "colab": {}
      },
      "source": [
        ""
      ],
      "execution_count": 0,
      "outputs": []
    },
    {
      "cell_type": "markdown",
      "metadata": {
        "id": "uwJ8NGEVW37r",
        "colab_type": "text"
      },
      "source": [
        "## Word cloud"
      ]
    },
    {
      "cell_type": "code",
      "metadata": {
        "id": "aKXbOtYAW7eD",
        "colab_type": "code",
        "colab": {}
      },
      "source": [
        "!wget https://github.com/Phonbopit/sarabun-webfont/raw/master/fonts/thsarabunnew-webfont.ttf"
      ],
      "execution_count": 0,
      "outputs": []
    },
    {
      "cell_type": "code",
      "metadata": {
        "id": "sg033RiDW8C1",
        "colab_type": "code",
        "colab": {}
      },
      "source": [
        "from wordcloud import WordCloud\n",
        "import matplotlib.pyplot as plt"
      ],
      "execution_count": 0,
      "outputs": []
    },
    {
      "cell_type": "code",
      "metadata": {
        "id": "6x2S2IORW9kg",
        "colab_type": "code",
        "colab": {}
      },
      "source": [
        ""
      ],
      "execution_count": 0,
      "outputs": []
    },
    {
      "cell_type": "markdown",
      "metadata": {
        "id": "l5SxhulWW_Qg",
        "colab_type": "text"
      },
      "source": [
        "## Simple sentiment analysis"
      ]
    },
    {
      "cell_type": "code",
      "metadata": {
        "id": "2nc-jytDYHcl",
        "colab_type": "code",
        "colab": {}
      },
      "source": [
        "!wget https://raw.githubusercontent.com/PyThaiNLP/lexicon-thai/master/sentiment/positive_new.txt\n",
        "!wget https://raw.githubusercontent.com/PyThaiNLP/lexicon-thai/master/sentiment/negative_new.txt"
      ],
      "execution_count": 0,
      "outputs": []
    },
    {
      "cell_type": "code",
      "metadata": {
        "id": "alntLlFuYJ55",
        "colab_type": "code",
        "colab": {}
      },
      "source": [
        "with open('positive_new.txt') as f:\n",
        "  pos = set(word.strip() for word in f)\n",
        "with open('negative_new.txt') as f:\n",
        "  neg = set(word.strip() for word in f)"
      ],
      "execution_count": 0,
      "outputs": []
    },
    {
      "cell_type": "markdown",
      "metadata": {
        "id": "2GzJz0TVRArf",
        "colab_type": "text"
      },
      "source": [
        "### นับคำบวก/ลบ"
      ]
    },
    {
      "cell_type": "code",
      "metadata": {
        "id": "_UmJyjoIY96j",
        "colab_type": "code",
        "colab": {}
      },
      "source": [
        ""
      ],
      "execution_count": 0,
      "outputs": []
    },
    {
      "cell_type": "markdown",
      "metadata": {
        "id": "yXPlizu-RE3U",
        "colab_type": "text"
      },
      "source": [
        "### Plot กราฟ"
      ]
    },
    {
      "cell_type": "code",
      "metadata": {
        "id": "FvKyS4QjRH36",
        "colab_type": "code",
        "colab": {}
      },
      "source": [
        "import matplotlib as mpl\n",
        "mpl.font_manager.fontManager.addfont('thsarabunnew-webfont.ttf') # 3.2+\n",
        "mpl.rc('font', family='TH Sarabun New')"
      ],
      "execution_count": 0,
      "outputs": []
    },
    {
      "cell_type": "code",
      "metadata": {
        "id": "lpbNLcmURMxo",
        "colab_type": "code",
        "colab": {}
      },
      "source": [
        ""
      ],
      "execution_count": 0,
      "outputs": []
    }
  ]
}