{
  "nbformat": 4,
  "nbformat_minor": 0,
  "metadata": {
    "colab": {
      "name": "WebScraping101",
      "provenance": [],
      "collapsed_sections": [],
      "toc_visible": true
    },
    "kernelspec": {
      "name": "python3",
      "display_name": "Python 3"
    }
  },
  "cells": [
    {
      "cell_type": "markdown",
      "metadata": {
        "id": "i5hjCqUu69w7",
        "colab_type": "text"
      },
      "source": [
        "# การวิเคราะห์ข้อความจากเว็บไซต์"
      ]
    },
    {
      "cell_type": "markdown",
      "metadata": {
        "id": "mDUgtHEV7E6A",
        "colab_type": "text"
      },
      "source": [
        "## Dependencies\n",
        "Install libraries\n",
        "- `pythainlp` สำหรับจัดการภาษาไทย\n",
        "- `emoji` สำหรับจัดการ emoji ในข้อความ ใช้ใน `pythainlp`\n",
        "- `beautifulsoup4` ใช้ parse HTML"
      ]
    },
    {
      "cell_type": "code",
      "metadata": {
        "id": "2Tnujg2-c-Z0",
        "colab_type": "code",
        "colab": {}
      },
      "source": [
        "!pip install https://github.com/PyThaiNLP/pythainlp/archive/dev.zip\n",
        "!pip install emoji\n",
        "\n",
        "!pip install beautifulsoup4"
      ],
      "execution_count": 0,
      "outputs": []
    },
    {
      "cell_type": "markdown",
      "metadata": {
        "id": "nQlhMzHm7jDy",
        "colab_type": "text"
      },
      "source": [
        "## Download webpage\n",
        "Libraries\n",
        "- `requests` สำหรับส่ง http request\n",
        "\n",
        "**References**:\n",
        "- https://requests.readthedocs.io/en/master/"
      ]
    },
    {
      "cell_type": "code",
      "metadata": {
        "id": "PnMY3-p_Zft3",
        "colab_type": "code",
        "colab": {}
      },
      "source": [
        "from bs4 import BeautifulSoup\n",
        "import requests"
      ],
      "execution_count": 0,
      "outputs": []
    },
    {
      "cell_type": "code",
      "metadata": {
        "id": "1-XowJBnal58",
        "colab_type": "code",
        "colab": {}
      },
      "source": [
        "URL = ''"
      ],
      "execution_count": 0,
      "outputs": []
    },
    {
      "cell_type": "code",
      "metadata": {
        "id": "-GJAEvv-bg4f",
        "colab_type": "code",
        "colab": {}
      },
      "source": [
        "page = requests.get(URL)\n",
        "page.content"
      ],
      "execution_count": 0,
      "outputs": []
    },
    {
      "cell_type": "markdown",
      "metadata": {
        "id": "ZDTjS39L8QTq",
        "colab_type": "text"
      },
      "source": [
        "## Parse HTML\n",
        "Libraries\n",
        "- `bs4` ใช้ parse HTML\n",
        "\n",
        "**References**:\n",
        "- https://www.crummy.com/software/BeautifulSoup/bs4/doc/#quick-start"
      ]
    },
    {
      "cell_type": "code",
      "metadata": {
        "id": "0Tqo1cJtbmxz",
        "colab_type": "code",
        "colab": {}
      },
      "source": [
        "soup = BeautifulSoup(page.content, 'html.parser')"
      ],
      "execution_count": 0,
      "outputs": []
    },
    {
      "cell_type": "markdown",
      "metadata": {
        "id": "mJAXSXPfcCcY",
        "colab_type": "text"
      },
      "source": [
        "### เลือก HTML tag ที่ต้องการ\n",
        "\n",
        "- Inspect element ใน browser"
      ]
    },
    {
      "cell_type": "code",
      "metadata": {
        "id": "25QXj8Hnk6yB",
        "colab_type": "code",
        "colab": {}
      },
      "source": [
        ""
      ],
      "execution_count": 0,
      "outputs": []
    },
    {
      "cell_type": "markdown",
      "metadata": {
        "id": "WLokGzSo8xqi",
        "colab_type": "text"
      },
      "source": [
        "## ตัดคำ\n",
        "Libraries\n",
        "- `pythainlp` ใช้เซตอักขระภาษาไทย\n",
        "- `pythainlp.ulmfit` ใช้ฟังก์ชัน `process_thai` ในการตัดคำ\n",
        "- `re` ใช้ตัดคำที่ไม่มีอักขระไทยเลยออก\n",
        "\n",
        "**References**:\n",
        "- https://www.thainlp.org/pythainlp/tutorials/notebooks/pythainlp_get_started.html#Thai-Characters\n",
        "- https://www.thainlp.org/pythainlp/docs/dev/api/ulmfit.html\n",
        "- https://docs.python.org/3/library/re.html\n"
      ]
    },
    {
      "cell_type": "code",
      "metadata": {
        "id": "iSkq4DuYknqw",
        "colab_type": "code",
        "colab": {}
      },
      "source": [
        "import pythainlp\n",
        "from pythainlp.ulmfit import process_thai\n",
        "import re"
      ],
      "execution_count": 0,
      "outputs": []
    },
    {
      "cell_type": "code",
      "metadata": {
        "id": "7eHQdQlkk9Ia",
        "colab_type": "code",
        "colab": {}
      },
      "source": [
        ""
      ],
      "execution_count": 0,
      "outputs": []
    },
    {
      "cell_type": "markdown",
      "metadata": {
        "id": "Fd082KN8ltvr",
        "colab_type": "text"
      },
      "source": [
        "## นับความถี่\n",
        "Libraries\n",
        "- `pythainlp.util` ใช้ฟังก์ชัน `rank` สามารถตัด stopword ได้\n",
        "\n",
        "หรือจะใช้\n",
        "- `collections` และคลาส `Counter` ก็ได้ แต่ต้องตัด stopword เอง\n",
        "\n",
        "**References**:\n",
        "- https://www.thainlp.org/pythainlp/docs/dev/api/util.html\n",
        "- https://docs.python.org/3/library/collections.html#collections.Counter"
      ]
    },
    {
      "cell_type": "code",
      "metadata": {
        "id": "6eOP66OrlzfQ",
        "colab_type": "code",
        "colab": {}
      },
      "source": [
        "from pythainlp.util import rank"
      ],
      "execution_count": 0,
      "outputs": []
    },
    {
      "cell_type": "code",
      "metadata": {
        "id": "aJsf1M-Al0rf",
        "colab_type": "code",
        "colab": {}
      },
      "source": [
        ""
      ],
      "execution_count": 0,
      "outputs": []
    },
    {
      "cell_type": "markdown",
      "metadata": {
        "id": "OvE64kKCl4sE",
        "colab_type": "text"
      },
      "source": [
        "## Word cloud\n",
        "Libraries\n",
        "- `wordcloud` สำหรับสร้าง word cloud\n",
        "- `matplotlib.pyplot` สำหรับวาดกราฟ (เอา word cloud ไปใส่)\n",
        "\n",
        "**References**:\n",
        "- https://amueller.github.io/word_cloud/generated/wordcloud.WordCloud.html\n",
        "- https://matplotlib.org/api/_as_gen/matplotlib.pyplot.html#module-matplotlib.pyplot"
      ]
    },
    {
      "cell_type": "code",
      "metadata": {
        "id": "YqzyHyqwmAAC",
        "colab_type": "code",
        "colab": {}
      },
      "source": [
        "from wordcloud import WordCloud\n",
        "import matplotlib.pyplot as plt"
      ],
      "execution_count": 0,
      "outputs": []
    },
    {
      "cell_type": "markdown",
      "metadata": {
        "id": "1TtvFVZS_hm6",
        "colab_type": "text"
      },
      "source": [
        "### Download font ภาษาไทย"
      ]
    },
    {
      "cell_type": "code",
      "metadata": {
        "id": "3_FKbGs7l-oX",
        "colab_type": "code",
        "outputId": "fa94315e-2d2f-46bd-b14e-a6e22d53e09e",
        "colab": {
          "base_uri": "https://localhost:8080/",
          "height": 289
        }
      },
      "source": [
        "!wget https://github.com/Phonbopit/sarabun-webfont/raw/master/fonts/thsarabunnew-webfont.ttf"
      ],
      "execution_count": 0,
      "outputs": [
        {
          "output_type": "stream",
          "text": [
            "--2020-04-27 12:23:55--  https://github.com/Phonbopit/sarabun-webfont/raw/master/fonts/thsarabunnew-webfont.ttf\n",
            "Resolving github.com (github.com)... 140.82.118.4\n",
            "Connecting to github.com (github.com)|140.82.118.4|:443... connected.\n",
            "HTTP request sent, awaiting response... 302 Found\n",
            "Location: https://raw.githubusercontent.com/Phonbopit/sarabun-webfont/master/fonts/thsarabunnew-webfont.ttf [following]\n",
            "--2020-04-27 12:23:55--  https://raw.githubusercontent.com/Phonbopit/sarabun-webfont/master/fonts/thsarabunnew-webfont.ttf\n",
            "Resolving raw.githubusercontent.com (raw.githubusercontent.com)... 151.101.0.133, 151.101.64.133, 151.101.128.133, ...\n",
            "Connecting to raw.githubusercontent.com (raw.githubusercontent.com)|151.101.0.133|:443... connected.\n",
            "HTTP request sent, awaiting response... 200 OK\n",
            "Length: 98308 (96K) [application/octet-stream]\n",
            "Saving to: ‘thsarabunnew-webfont.ttf’\n",
            "\n",
            "\rthsarabunnew-webfon   0%[                    ]       0  --.-KB/s               \rthsarabunnew-webfon 100%[===================>]  96.00K  --.-KB/s    in 0.009s  \n",
            "\n",
            "2020-04-27 12:23:55 (10.5 MB/s) - ‘thsarabunnew-webfont.ttf’ saved [98308/98308]\n",
            "\n"
          ],
          "name": "stdout"
        }
      ]
    },
    {
      "cell_type": "markdown",
      "metadata": {
        "id": "TshtRBtE_rjk",
        "colab_type": "text"
      },
      "source": [
        "### Plot\n",
        "\n",
        "ต้องกำหนด font ให้รองรับภาษาไทยด้วย\n",
        "\n",
        "หากให้ `freq` เก็บ dict หรือ Counter ของคำและความถี่ จะ plot ได้ดังนี้"
      ]
    },
    {
      "cell_type": "code",
      "metadata": {
        "id": "EN7_SaqPmBXv",
        "colab_type": "code",
        "colab": {}
      },
      "source": [
        "wordcloud = WordCloud(font_path='thsarabunnew-webfont.ttf',\n",
        "                      width=800,\n",
        "                      height=800,\n",
        "                      min_font_size=10,\n",
        "                      background_color='white').generate_from_frequencies(freq)\n",
        "plt.figure(figsize = (15,15))\n",
        "plt.axis('off')\n",
        "plt.imshow(wordcloud)\n",
        "plt.show()"
      ],
      "execution_count": 0,
      "outputs": []
    },
    {
      "cell_type": "markdown",
      "metadata": {
        "id": "ptO8fOqVmCjR",
        "colab_type": "text"
      },
      "source": [
        "## Simple sentiment analysis\n",
        "- พจนานุกรมคำบวกและลบจาก `pythainlp`"
      ]
    },
    {
      "cell_type": "markdown",
      "metadata": {
        "id": "31vD-SIfBQXx",
        "colab_type": "text"
      },
      "source": [
        "### Download พจนานุกรม"
      ]
    },
    {
      "cell_type": "code",
      "metadata": {
        "id": "QaKzyNNnmFP-",
        "colab_type": "code",
        "outputId": "94008898-f904-4df9-86d8-047d10928a5b",
        "colab": {
          "base_uri": "https://localhost:8080/",
          "height": 391
        }
      },
      "source": [
        "!wget https://raw.githubusercontent.com/PyThaiNLP/lexicon-thai/master/sentiment/positive_new.txt\n",
        "!wget https://raw.githubusercontent.com/PyThaiNLP/lexicon-thai/master/sentiment/negative_new.txt"
      ],
      "execution_count": 0,
      "outputs": [
        {
          "output_type": "stream",
          "text": [
            "--2020-04-27 12:26:42--  https://raw.githubusercontent.com/PyThaiNLP/lexicon-thai/master/sentiment/positive_new.txt\n",
            "Resolving raw.githubusercontent.com (raw.githubusercontent.com)... 151.101.0.133, 151.101.64.133, 151.101.128.133, ...\n",
            "Connecting to raw.githubusercontent.com (raw.githubusercontent.com)|151.101.0.133|:443... connected.\n",
            "HTTP request sent, awaiting response... 200 OK\n",
            "Length: 7319 (7.1K) [text/plain]\n",
            "Saving to: ‘positive_new.txt’\n",
            "\n",
            "\rpositive_new.txt      0%[                    ]       0  --.-KB/s               \rpositive_new.txt    100%[===================>]   7.15K  --.-KB/s    in 0s      \n",
            "\n",
            "2020-04-27 12:26:42 (81.9 MB/s) - ‘positive_new.txt’ saved [7319/7319]\n",
            "\n",
            "--2020-04-27 12:26:43--  https://raw.githubusercontent.com/PyThaiNLP/lexicon-thai/master/sentiment/negative_new.txt\n",
            "Resolving raw.githubusercontent.com (raw.githubusercontent.com)... 151.101.0.133, 151.101.64.133, 151.101.128.133, ...\n",
            "Connecting to raw.githubusercontent.com (raw.githubusercontent.com)|151.101.0.133|:443... connected.\n",
            "HTTP request sent, awaiting response... 200 OK\n",
            "Length: 15150 (15K) [text/plain]\n",
            "Saving to: ‘negative_new.txt’\n",
            "\n",
            "negative_new.txt    100%[===================>]  14.79K  --.-KB/s    in 0.003s  \n",
            "\n",
            "2020-04-27 12:26:44 (4.23 MB/s) - ‘negative_new.txt’ saved [15150/15150]\n",
            "\n"
          ],
          "name": "stdout"
        }
      ]
    },
    {
      "cell_type": "code",
      "metadata": {
        "id": "n-u-Uq4lmowW",
        "colab_type": "code",
        "colab": {}
      },
      "source": [
        "with open('positive_new.txt') as f:\n",
        "  pos = set(word.strip() for word in f)\n",
        "with open('negative_new.txt') as f:\n",
        "  neg = set(word.strip() for word in f)"
      ],
      "execution_count": 0,
      "outputs": []
    },
    {
      "cell_type": "markdown",
      "metadata": {
        "id": "aFYu0T4oBUX_",
        "colab_type": "text"
      },
      "source": [
        "### นับคำบวก/ลบ"
      ]
    },
    {
      "cell_type": "code",
      "metadata": {
        "id": "wDFiJzmFmqEc",
        "colab_type": "code",
        "colab": {}
      },
      "source": [
        ""
      ],
      "execution_count": 0,
      "outputs": []
    },
    {
      "cell_type": "markdown",
      "metadata": {
        "id": "jMmZtCeGBi6Q",
        "colab_type": "text"
      },
      "source": [
        "### Plot กราฟ\n",
        "Libraries\n",
        "- `matplotlib` ต้องตั้งค่า default font ของกราฟเพื่อแสดงภาษาไทยในแกน\n",
        "\n",
        "Plot\n",
        "- 10 คำบวกที่มีความถี่สูงที่สุด\n",
        "- 10 คำลบที่มีความถี่สูงที่สุด\n",
        "\n",
        "**Reference**:\n",
        "- https://matplotlib.org/api/font_manager_api.html#matplotlib.font_manager.FontManager\n",
        "- https://matplotlib.org/api/_as_gen/matplotlib.pyplot.barh.html#matplotlib.pyplot.barh"
      ]
    },
    {
      "cell_type": "code",
      "metadata": {
        "id": "q390RDoEBqnT",
        "colab_type": "code",
        "colab": {}
      },
      "source": [
        "import matplotlib as mpl\n",
        "mpl.font_manager.fontManager.addfont('thsarabunnew-webfont.ttf') # 3.2+\n",
        "mpl.rc('font', family='TH Sarabun New')"
      ],
      "execution_count": 0,
      "outputs": []
    },
    {
      "cell_type": "code",
      "metadata": {
        "id": "PwkCtNXFByf_",
        "colab_type": "code",
        "colab": {}
      },
      "source": [
        ""
      ],
      "execution_count": 0,
      "outputs": []
    }
  ]
}