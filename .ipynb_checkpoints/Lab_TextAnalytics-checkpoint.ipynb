{
 "cells": [
  {
   "cell_type": "markdown",
   "metadata": {},
   "source": [
    "[![Open In Colab](https://colab.research.google.com/assets/colab-badge.svg)](https://colab.research.google.com/github/dittaya/IntroTextAnalytics/blob/master/Lab_TextAnalytics.ipynb)"
   ]
  },
  {
   "cell_type": "markdown",
   "metadata": {
    "colab_type": "text",
    "id": "pkgMyY21Dsus"
   },
   "source": [
    "# การวิเคราะห์ข้อความจาก YouTube/Twitter"
   ]
  },
  {
   "cell_type": "markdown",
   "metadata": {
    "colab_type": "text",
    "id": "pBphsIPgDzfp"
   },
   "source": [
    "## Dependencies\n",
    "Install libraries\n",
    "- `pythainlp` สำหรับจัดการภาษาไทย\n",
    "- `emoji` สำหรับจัดการ emoji ในข้อความ ใช้ใน `pythainlp`"
   ]
  },
  {
   "cell_type": "code",
   "execution_count": 0,
   "metadata": {
    "colab": {},
    "colab_type": "code",
    "id": "Uj5sl4ohQTcV"
   },
   "outputs": [],
   "source": [
    "!pip install https://github.com/PyThaiNLP/pythainlp/archive/dev.zip\n",
    "!pip install emoji"
   ]
  },
  {
   "cell_type": "markdown",
   "metadata": {
    "colab_type": "text",
    "id": "NSv7Ln_GEWDo"
   },
   "source": [
    "## Download ข้อมูล และ upload ขึ้น Colab\n",
    "Libraries\n",
    "- `google.colab` ใช้ module `file`\n",
    "\n",
    "หรือ\n",
    "- กด files -> เลือก Upload\n",
    "\n",
    "**Link**:\n",
    "- [2getherTheSeriesYouTube.csv](https://bit.ly/KMITL2020-YouTubeComments) (~25MB)\n",
    "- [2getherTheSeriesTwitter.csv](https://bit.ly/KMITL2020-Twitter) (~1.8MB)\n"
   ]
  },
  {
   "cell_type": "code",
   "execution_count": 0,
   "metadata": {
    "colab": {},
    "colab_type": "code",
    "id": "g0wntMeQQh36"
   },
   "outputs": [],
   "source": [
    "from google.colab import files\n",
    "files.upload()"
   ]
  },
  {
   "cell_type": "markdown",
   "metadata": {
    "colab_type": "text",
    "id": "6FBMk-MAEY2x"
   },
   "source": [
    "## อ่านข้อมูล\n",
    "Libraries\n",
    "- `pandas` เพื่อความสะดวกในการจัดการไฟล์\n",
    "\n",
    "หรือ\n",
    "- `csv` เพื่ออ่านไฟล์ CSV\n",
    "\n",
    "หรือ\n",
    "- เปิดไฟล์ธรรมดาแล้วตัดสตริง\n",
    "\n",
    "**References**:\n",
    "- https://pandas.pydata.org/pandas-docs/stable/reference/api/pandas.read_csv.html"
   ]
  },
  {
   "cell_type": "code",
   "execution_count": 0,
   "metadata": {
    "colab": {},
    "colab_type": "code",
    "id": "3mlHht2JREMx"
   },
   "outputs": [],
   "source": [
    "import pandas as pd"
   ]
  },
  {
   "cell_type": "code",
   "execution_count": 0,
   "metadata": {
    "colab": {},
    "colab_type": "code",
    "id": "-GkgR-cpRlxQ"
   },
   "outputs": [],
   "source": [
    "filename = '2getherTheSeriesYouTube.csv'\n",
    "filename = '2getherTheSeriesTwitter.csv'"
   ]
  },
  {
   "cell_type": "code",
   "execution_count": 0,
   "metadata": {
    "colab": {},
    "colab_type": "code",
    "id": "3mIuJDPWQ2w9"
   },
   "outputs": [],
   "source": [
    "df = pd.read_csv('2getherTheSeriesYouTube.csv', escapechar='\\\\', quotechar='\"', quoting=1)\n",
    "df"
   ]
  },
  {
   "cell_type": "markdown",
   "metadata": {
    "colab_type": "text",
    "id": "UXWByt83PtFG"
   },
   "source": [
    "## ตัดคำ"
   ]
  },
  {
   "cell_type": "code",
   "execution_count": 0,
   "metadata": {
    "colab": {},
    "colab_type": "code",
    "id": "Qn9wn_nNXvc0"
   },
   "outputs": [],
   "source": [
    "import pythainlp\n",
    "from pythainlp.ulmfit import process_thai\n",
    "import re"
   ]
  },
  {
   "cell_type": "code",
   "execution_count": 0,
   "metadata": {
    "colab": {},
    "colab_type": "code",
    "id": "cSpEW-sVQV3p"
   },
   "outputs": [],
   "source": []
  },
  {
   "cell_type": "markdown",
   "metadata": {
    "colab_type": "text",
    "id": "r0t3ZqRiQJ5L"
   },
   "source": [
    "## นับความถี่"
   ]
  },
  {
   "cell_type": "code",
   "execution_count": 0,
   "metadata": {
    "colab": {},
    "colab_type": "code",
    "id": "3AJ1QxFpWfV7"
   },
   "outputs": [],
   "source": []
  },
  {
   "cell_type": "markdown",
   "metadata": {
    "colab_type": "text",
    "id": "uwJ8NGEVW37r"
   },
   "source": [
    "## Word cloud"
   ]
  },
  {
   "cell_type": "code",
   "execution_count": 0,
   "metadata": {
    "colab": {},
    "colab_type": "code",
    "id": "aKXbOtYAW7eD"
   },
   "outputs": [],
   "source": [
    "!wget https://github.com/Phonbopit/sarabun-webfont/raw/master/fonts/thsarabunnew-webfont.ttf"
   ]
  },
  {
   "cell_type": "code",
   "execution_count": 0,
   "metadata": {
    "colab": {},
    "colab_type": "code",
    "id": "sg033RiDW8C1"
   },
   "outputs": [],
   "source": [
    "from wordcloud import WordCloud\n",
    "import matplotlib.pyplot as plt"
   ]
  },
  {
   "cell_type": "code",
   "execution_count": 0,
   "metadata": {
    "colab": {},
    "colab_type": "code",
    "id": "6x2S2IORW9kg"
   },
   "outputs": [],
   "source": []
  },
  {
   "cell_type": "markdown",
   "metadata": {
    "colab_type": "text",
    "id": "l5SxhulWW_Qg"
   },
   "source": [
    "## Simple sentiment analysis"
   ]
  },
  {
   "cell_type": "code",
   "execution_count": 0,
   "metadata": {
    "colab": {},
    "colab_type": "code",
    "id": "2nc-jytDYHcl"
   },
   "outputs": [],
   "source": [
    "!wget https://raw.githubusercontent.com/PyThaiNLP/lexicon-thai/master/sentiment/positive_new.txt\n",
    "!wget https://raw.githubusercontent.com/PyThaiNLP/lexicon-thai/master/sentiment/negative_new.txt"
   ]
  },
  {
   "cell_type": "code",
   "execution_count": 0,
   "metadata": {
    "colab": {},
    "colab_type": "code",
    "id": "alntLlFuYJ55"
   },
   "outputs": [],
   "source": [
    "with open('positive_new.txt') as f:\n",
    "  pos = set(word.strip() for word in f)\n",
    "with open('negative_new.txt') as f:\n",
    "  neg = set(word.strip() for word in f)"
   ]
  },
  {
   "cell_type": "markdown",
   "metadata": {
    "colab_type": "text",
    "id": "2GzJz0TVRArf"
   },
   "source": [
    "### นับคำบวก/ลบ"
   ]
  },
  {
   "cell_type": "code",
   "execution_count": 0,
   "metadata": {
    "colab": {},
    "colab_type": "code",
    "id": "_UmJyjoIY96j"
   },
   "outputs": [],
   "source": []
  },
  {
   "cell_type": "markdown",
   "metadata": {
    "colab_type": "text",
    "id": "yXPlizu-RE3U"
   },
   "source": [
    "### Plot กราฟ"
   ]
  },
  {
   "cell_type": "code",
   "execution_count": 0,
   "metadata": {
    "colab": {},
    "colab_type": "code",
    "id": "FvKyS4QjRH36"
   },
   "outputs": [],
   "source": [
    "import matplotlib as mpl\n",
    "mpl.font_manager.fontManager.addfont('thsarabunnew-webfont.ttf') # 3.2+\n",
    "mpl.rc('font', family='TH Sarabun New')"
   ]
  },
  {
   "cell_type": "code",
   "execution_count": 0,
   "metadata": {
    "colab": {},
    "colab_type": "code",
    "id": "lpbNLcmURMxo"
   },
   "outputs": [],
   "source": []
  }
 ],
 "metadata": {
  "colab": {
   "collapsed_sections": [],
   "name": "Lab-TextAnalytics",
   "provenance": []
  },
  "kernelspec": {
   "display_name": "Python 3",
   "language": "python",
   "name": "python3"
  },
  "language_info": {
   "codemirror_mode": {
    "name": "ipython",
    "version": 3
   },
   "file_extension": ".py",
   "mimetype": "text/x-python",
   "name": "python",
   "nbconvert_exporter": "python",
   "pygments_lexer": "ipython3",
   "version": "3.7.7"
  }
 },
 "nbformat": 4,
 "nbformat_minor": 1
}
